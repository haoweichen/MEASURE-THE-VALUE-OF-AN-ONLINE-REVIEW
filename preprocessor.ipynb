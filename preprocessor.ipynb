{
 "cells": [
  {
   "cell_type": "code",
   "execution_count": 4,
   "metadata": {},
   "outputs": [
    {
     "name": "stdout",
     "output_type": "stream",
     "text": [
      "success output\n"
     ]
    }
   ],
   "source": [
    "# import sys;\n",
    "# reload(sys);\n",
    "# sys.setdefaultencoding(\"utf8\")\n",
    "\n",
    "import csv \n",
    "from string import punctuation\n",
    "import json\n",
    "from nltk import tokenize\n",
    "\n",
    "# with open(\"yelp.data\", 'r') as f:\n",
    "#     reviews=[]\n",
    "#     for line in f: \n",
    "#         review = json.loads(line) \n",
    "#         reviews.append(review)\n",
    "\n",
    "with open(\"test.json\", 'r') as f:\n",
    "    reviews=[]\n",
    "    for line in f: \n",
    "        review = json.loads(line) \n",
    "        try:\n",
    "            review[\"text\"].strip().lower().encode('ascII')\n",
    "        except:\n",
    "            #print \"\\n-----\"+review['review_id']+\"----\"\n",
    "            #print review['text']\n",
    "            ;\n",
    "        else:\n",
    "            reviews.append(review)\n",
    "\n",
    "with open(\"data_sample.csv\", \"w\") as f:  \n",
    "            rows = []\n",
    "            i = 0\n",
    "            for rev in reviews[0:100]:\n",
    "                rev_sent = tokenize.sent_tokenize(rev['text'])\n",
    "                for sent in rev_sent:\n",
    "                    i = i+1\n",
    "                    #print sent\n",
    "                    rows.append((i,rev['review_id'],sent))\n",
    "               \n",
    "                #rows.append((x[\"funny\"],x[\"user_id\"],x[\"review_id\"],x[\"text\"],x[\"business_id\"],x[\"stars\"],x[\"date\"],x[\"useful\"],x[\"cool\"]))\n",
    "                #rows.append((x[\"review_id\"],x[\"text\"]))\n",
    "            #rows = sorted(rows, key=lambda row: row[1], reverse=True)\n",
    "            \n",
    "            \n",
    "            writer=csv.writer(f, delimiter=',')          \n",
    "            writer.writerows(rows)\n",
    "            print \"success output\"\n"
   ]
  },
  {
   "cell_type": "code",
   "execution_count": null,
   "metadata": {
    "collapsed": true
   },
   "outputs": [],
   "source": []
  },
  {
   "cell_type": "code",
   "execution_count": null,
   "metadata": {
    "collapsed": true
   },
   "outputs": [],
   "source": []
  }
 ],
 "metadata": {
  "kernelspec": {
   "display_name": "Python 2",
   "language": "python",
   "name": "python2"
  },
  "language_info": {
   "codemirror_mode": {
    "name": "ipython",
    "version": 2
   },
   "file_extension": ".py",
   "mimetype": "text/x-python",
   "name": "python",
   "nbconvert_exporter": "python",
   "pygments_lexer": "ipython2",
   "version": "2.7.13"
  }
 },
 "nbformat": 4,
 "nbformat_minor": 2
}
