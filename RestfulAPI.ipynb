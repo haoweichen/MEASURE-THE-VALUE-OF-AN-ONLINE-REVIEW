{
 "cells": [
  {
   "cell_type": "code",
   "execution_count": 1,
   "metadata": {},
   "outputs": [
    {
     "name": "stderr",
     "output_type": "stream",
     "text": [
      "Using TensorFlow backend.\n"
     ]
    },
    {
     "ename": "error",
     "evalue": "[Errno 48] Address already in use",
     "output_type": "error",
     "traceback": [
      "\u001b[0;31m---------------------------------------------------------------------------\u001b[0m",
      "\u001b[0;31merror\u001b[0m                                     Traceback (most recent call last)",
      "\u001b[0;32m<ipython-input-1-b5b880412fc6>\u001b[0m in \u001b[0;36m<module>\u001b[0;34m()\u001b[0m\n\u001b[1;32m     31\u001b[0m \u001b[0;34m\u001b[0m\u001b[0m\n\u001b[1;32m     32\u001b[0m \u001b[0;32mif\u001b[0m \u001b[0m__name__\u001b[0m \u001b[0;34m==\u001b[0m \u001b[0;34m'__main__'\u001b[0m\u001b[0;34m:\u001b[0m\u001b[0;34m\u001b[0m\u001b[0m\n\u001b[0;32m---> 33\u001b[0;31m     \u001b[0mapp\u001b[0m\u001b[0;34m.\u001b[0m\u001b[0mrun\u001b[0m\u001b[0;34m(\u001b[0m\u001b[0mdebug\u001b[0m\u001b[0;34m=\u001b[0m\u001b[0mTrue\u001b[0m\u001b[0;34m,\u001b[0m \u001b[0mport\u001b[0m\u001b[0;34m=\u001b[0m\u001b[0;36m8887\u001b[0m\u001b[0;34m)\u001b[0m\u001b[0;34m\u001b[0m\u001b[0m\n\u001b[0m",
      "\u001b[0;32m/Users/huangzijing/anaconda/lib/python2.7/site-packages/flask/app.pyc\u001b[0m in \u001b[0;36mrun\u001b[0;34m(self, host, port, debug, **options)\u001b[0m\n\u001b[1;32m    839\u001b[0m         \u001b[0moptions\u001b[0m\u001b[0;34m.\u001b[0m\u001b[0msetdefault\u001b[0m\u001b[0;34m(\u001b[0m\u001b[0;34m'use_debugger'\u001b[0m\u001b[0;34m,\u001b[0m \u001b[0mself\u001b[0m\u001b[0;34m.\u001b[0m\u001b[0mdebug\u001b[0m\u001b[0;34m)\u001b[0m\u001b[0;34m\u001b[0m\u001b[0m\n\u001b[1;32m    840\u001b[0m         \u001b[0;32mtry\u001b[0m\u001b[0;34m:\u001b[0m\u001b[0;34m\u001b[0m\u001b[0m\n\u001b[0;32m--> 841\u001b[0;31m             \u001b[0mrun_simple\u001b[0m\u001b[0;34m(\u001b[0m\u001b[0mhost\u001b[0m\u001b[0;34m,\u001b[0m \u001b[0mport\u001b[0m\u001b[0;34m,\u001b[0m \u001b[0mself\u001b[0m\u001b[0;34m,\u001b[0m \u001b[0;34m**\u001b[0m\u001b[0moptions\u001b[0m\u001b[0;34m)\u001b[0m\u001b[0;34m\u001b[0m\u001b[0m\n\u001b[0m\u001b[1;32m    842\u001b[0m         \u001b[0;32mfinally\u001b[0m\u001b[0;34m:\u001b[0m\u001b[0;34m\u001b[0m\u001b[0m\n\u001b[1;32m    843\u001b[0m             \u001b[0;31m# reset the first request information if the development server\u001b[0m\u001b[0;34m\u001b[0m\u001b[0;34m\u001b[0m\u001b[0m\n",
      "\u001b[0;32m/Users/huangzijing/anaconda/lib/python2.7/site-packages/werkzeug/serving.pyc\u001b[0m in \u001b[0;36mrun_simple\u001b[0;34m(hostname, port, application, use_reloader, use_debugger, use_evalex, extra_files, reloader_interval, reloader_type, threaded, processes, request_handler, static_files, passthrough_errors, ssl_context)\u001b[0m\n\u001b[1;32m    718\u001b[0m             \u001b[0ms\u001b[0m \u001b[0;34m=\u001b[0m \u001b[0msocket\u001b[0m\u001b[0;34m.\u001b[0m\u001b[0msocket\u001b[0m\u001b[0;34m(\u001b[0m\u001b[0maddress_family\u001b[0m\u001b[0;34m,\u001b[0m \u001b[0msocket\u001b[0m\u001b[0;34m.\u001b[0m\u001b[0mSOCK_STREAM\u001b[0m\u001b[0;34m)\u001b[0m\u001b[0;34m\u001b[0m\u001b[0m\n\u001b[1;32m    719\u001b[0m             \u001b[0ms\u001b[0m\u001b[0;34m.\u001b[0m\u001b[0msetsockopt\u001b[0m\u001b[0;34m(\u001b[0m\u001b[0msocket\u001b[0m\u001b[0;34m.\u001b[0m\u001b[0mSOL_SOCKET\u001b[0m\u001b[0;34m,\u001b[0m \u001b[0msocket\u001b[0m\u001b[0;34m.\u001b[0m\u001b[0mSO_REUSEADDR\u001b[0m\u001b[0;34m,\u001b[0m \u001b[0;36m1\u001b[0m\u001b[0;34m)\u001b[0m\u001b[0;34m\u001b[0m\u001b[0m\n\u001b[0;32m--> 720\u001b[0;31m             \u001b[0ms\u001b[0m\u001b[0;34m.\u001b[0m\u001b[0mbind\u001b[0m\u001b[0;34m(\u001b[0m\u001b[0;34m(\u001b[0m\u001b[0mhostname\u001b[0m\u001b[0;34m,\u001b[0m \u001b[0mport\u001b[0m\u001b[0;34m)\u001b[0m\u001b[0;34m)\u001b[0m\u001b[0;34m\u001b[0m\u001b[0m\n\u001b[0m\u001b[1;32m    721\u001b[0m             \u001b[0;32mif\u001b[0m \u001b[0mhasattr\u001b[0m\u001b[0;34m(\u001b[0m\u001b[0ms\u001b[0m\u001b[0;34m,\u001b[0m \u001b[0;34m'set_inheritable'\u001b[0m\u001b[0;34m)\u001b[0m\u001b[0;34m:\u001b[0m\u001b[0;34m\u001b[0m\u001b[0m\n\u001b[1;32m    722\u001b[0m                 \u001b[0ms\u001b[0m\u001b[0;34m.\u001b[0m\u001b[0mset_inheritable\u001b[0m\u001b[0;34m(\u001b[0m\u001b[0mTrue\u001b[0m\u001b[0;34m)\u001b[0m\u001b[0;34m\u001b[0m\u001b[0m\n",
      "\u001b[0;32m/Users/huangzijing/anaconda/lib/python2.7/socket.pyc\u001b[0m in \u001b[0;36mmeth\u001b[0;34m(name, self, *args)\u001b[0m\n\u001b[1;32m    226\u001b[0m \u001b[0;34m\u001b[0m\u001b[0m\n\u001b[1;32m    227\u001b[0m \u001b[0;32mdef\u001b[0m \u001b[0mmeth\u001b[0m\u001b[0;34m(\u001b[0m\u001b[0mname\u001b[0m\u001b[0;34m,\u001b[0m\u001b[0mself\u001b[0m\u001b[0;34m,\u001b[0m\u001b[0;34m*\u001b[0m\u001b[0margs\u001b[0m\u001b[0;34m)\u001b[0m\u001b[0;34m:\u001b[0m\u001b[0;34m\u001b[0m\u001b[0m\n\u001b[0;32m--> 228\u001b[0;31m     \u001b[0;32mreturn\u001b[0m \u001b[0mgetattr\u001b[0m\u001b[0;34m(\u001b[0m\u001b[0mself\u001b[0m\u001b[0;34m.\u001b[0m\u001b[0m_sock\u001b[0m\u001b[0;34m,\u001b[0m\u001b[0mname\u001b[0m\u001b[0;34m)\u001b[0m\u001b[0;34m(\u001b[0m\u001b[0;34m*\u001b[0m\u001b[0margs\u001b[0m\u001b[0;34m)\u001b[0m\u001b[0;34m\u001b[0m\u001b[0m\n\u001b[0m\u001b[1;32m    229\u001b[0m \u001b[0;34m\u001b[0m\u001b[0m\n\u001b[1;32m    230\u001b[0m \u001b[0;32mfor\u001b[0m \u001b[0m_m\u001b[0m \u001b[0;32min\u001b[0m \u001b[0m_socketmethods\u001b[0m\u001b[0;34m:\u001b[0m\u001b[0;34m\u001b[0m\u001b[0m\n",
      "\u001b[0;31merror\u001b[0m: [Errno 48] Address already in use"
     ]
    }
   ],
   "source": [
    "#!flask/bin/python\n",
    "from flask import Flask, jsonify, request, Response\n",
    "from ReviewAnalyser import ReviewAnalyser\n",
    "from flask import render_template\n",
    "import pandas as pd\n",
    "from nltk import tokenize\n",
    "import json\n",
    "\n",
    "app = Flask(__name__)\n",
    "\n",
    "@app.route('/', methods=['GET'])\n",
    "def test_api():\n",
    "    dic1 = '{ \"code\": 100000, \"predict\": { \"label_predict\": { \"the beef steak is good.\": { \"amenities\": 0.00103157723788172, \"environment\": 0.0008686440996825695, \"food\": 0.9970982074737549, \"location\": 0.0010762664023786783, \"null\": 0.03090427815914154, \"price\": 0.007220499683171511, \"service\": 0.0008012578473426402 }, \"the beer is good too.\": { \"amenities\": 0.00982755422592163, \"environment\": 0.009218058548867702, \"food\": 0.5981521010398865, \"location\": 0.008505474776029587, \"null\": 0.20521660149097443, \"price\": 0.0184511486440897, \"service\": 0.002994242124259472 } }, \"review_predict\": [ 0.6158599853515625 ], \"sentiment_predict\": { \"the beef steak is good.\": 0.6330832242965698, \"the beer is good too.\": 0.822425127029419 } } }'\n",
    "    predict = json.loads(dic1)\n",
    "    html = render_template(\"predict.html\", predict=predict)\n",
    "    #resp = jsonify({'result': html})\n",
    "    return html\n",
    "\n",
    "@app.route('/reviewAnalyser/api/v1.0/predict/label', methods=['POST'])\n",
    "def predict_label():\n",
    "    data=pd.read_csv(\"data_sampl2.csv\",header=None)\n",
    "    ra = ReviewAnalyser(data)\n",
    "    ra.pretrain()\n",
    "    ra.trainLebels(RETRAIN=0)\n",
    "    label_predict = ra.predictLabels(text_arr=request.json.get(\"text_arr\"))\n",
    "    return jsonify({'code': 100000, 'data': label_predict}), 201\n",
    "\n",
    "@app.route('/reviewAnalyser/api/v1.0/predict/sentiment', methods=['POST'])\n",
    "def predict_sentiment():\n",
    "    data=pd.read_csv(\"data_sample2.csv\",header=None)\n",
    "    ra = ReviewAnalyser(data)\n",
    "    ra.pretrain()\n",
    "    ra.trainSentiment(RETRAIN=0)\n",
    "    sentiment_predict = ra.predictSentiment(text_arr=request.json.get(\"text_arr\"))\n",
    "    return jsonify({'code': 100000, 'data': sentiment_predict}), 201\n",
    "\n",
    "@app.route('/reviewAnalyser/api/v1.0/predict/review', methods=['POST'])\n",
    "def predict_review():\n",
    "    reviews = request.json.get(\"reviews\")\n",
    "    text_arr = []\n",
    "    for rev in reviews[0:10]:\n",
    "        rev_sent = tokenize.sent_tokenize(rev)\n",
    "        for sent in rev_sent:\n",
    "            text_arr.append(sent)\n",
    "\n",
    "    data=pd.read_csv(\"data_sample2.csv\",header=None)\n",
    "    ra = ReviewAnalyser(data)\n",
    "    ra.pretrain()\n",
    "    ra.trainLebels(RETRAIN=0)\n",
    "    #label_predict = ra.predictLabels(text_arr)\n",
    "    ra.trainSentiment(RETRAIN=0)\n",
    "    #sentiment_predict = ra.predictSentiment(text_arr)\n",
    "    prediction = ra.predictQuality(review_arr=reviews)\n",
    "    html = render_template(\"predict.html\", predict=prediction)\n",
    "    #resp = jsonify({'code': 100000, 'labels' : label_predict,'sent': sentiment_predict})\n",
    "    resp = jsonify({'code': 100000, 'predict' : prediction, 'html':html})\n",
    "    return resp\n",
    "\n",
    "@app.route('/reviewAnalyser/api/v1.0/performace/label', methods=['GET'])\n",
    "def performance_labels():\n",
    "    data=pd.read_csv(\"data_sample2.csv\",header=None)\n",
    "    ra = ReviewAnalyser(data)\n",
    "    ra.pretrain()\n",
    "    ra.trainLebels(RETRAIN=0)\n",
    "    # rtn = ReviewAnalyser.checkPerform(ra.label_model, ra.label_mlb, ra.label_padding_sequence, ra.label_act)\n",
    "    rtn = ra.checkLabelPerform()\n",
    "    #return jsonify({'result': rtn})\n",
    "    return rtn\n",
    "\n",
    "@app.route('/reviewAnalyser/api/v1.0/performace/sent', methods=['GET'])\n",
    "def performance_sent():\n",
    "    data=pd.read_csv(\"data_sample2.csv\",header=None)\n",
    "    ra = ReviewAnalyser(data)\n",
    "    ra.pretrain()\n",
    "    ra.trainSentiment(RETRAIN=0)\n",
    "    # rtn = ReviewAnalyser.checkPerform(ra.sent_model, ra.sent_mlb, ra.sent_padding_sequence, ra.sent_act)\n",
    "    rtn = ra.checkSentimentPerform()\n",
    "    #return jsonify({'result': rtn})\n",
    "    return rtn\n",
    "\n",
    "@app.route('/reviewAnalyser/api/v1.0/documentInform/1', methods=['GET'])\n",
    "def performance_img1():\n",
    "    image = file(\"word_freq.jpg\")\n",
    "    resp = Response(image, mimetype=\"image/jpeg\")\n",
    "    return resp\n",
    "\n",
    "@app.route('/reviewAnalyser/api/v1.0/documentInform/2', methods=['GET'])\n",
    "def performance_img2():\n",
    "    image = file(\"sent_len.jpg\")\n",
    "    resp = Response(image, mimetype=\"image/jpeg\")\n",
    "    return resp\n",
    "\n",
    "if __name__ == '__main__':\n",
    "    app.run(debug=True, port=8887)\n",
    "\n"
   ]
  },
  {
   "cell_type": "code",
   "execution_count": null,
   "metadata": {
    "collapsed": true
   },
   "outputs": [],
   "source": []
  }
 ],
 "metadata": {
  "kernelspec": {
   "display_name": "Python 2",
   "language": "python",
   "name": "python2"
  },
  "language_info": {
   "codemirror_mode": {
    "name": "ipython",
    "version": 2
   },
   "file_extension": ".py",
   "mimetype": "text/x-python",
   "name": "python",
   "nbconvert_exporter": "python",
   "pygments_lexer": "ipython2",
   "version": "2.7.13"
  }
 },
 "nbformat": 4,
 "nbformat_minor": 2
}
